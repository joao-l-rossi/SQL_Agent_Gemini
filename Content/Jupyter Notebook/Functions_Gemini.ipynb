{
 "cells": [
  {
   "cell_type": "markdown",
   "id": "3e539000-7e3b-41f8-a542-616410f03f21",
   "metadata": {},
   "source": [
    "### SQL Agent running functions"
   ]
  },
  {
   "cell_type": "code",
   "execution_count": 9,
   "id": "899d1fa9-368a-46f1-b9c5-e4b7c60b1f62",
   "metadata": {},
   "outputs": [
    {
     "name": "stdout",
     "output_type": "stream",
     "text": [
      "The history saving thread hit an unexpected error (OperationalError('attempt to write a readonly database')).History will not be written to the database.\n"
     ]
    }
   ],
   "source": [
    "import sqlite3\n",
    "import google.generativeai as genai\n",
    "import os\n",
    "from google.api_core import retry\n",
    "import logging"
   ]
  },
  {
   "cell_type": "code",
   "execution_count": 10,
   "id": "e3336794-52a0-4857-ba8e-81dcf4d30fbc",
   "metadata": {},
   "outputs": [],
   "source": [
    "key = os.getenv('GOOGLE_API_KEY')\n",
    "genai.configure(api_key=key)"
   ]
  },
  {
   "cell_type": "code",
   "execution_count": 11,
   "id": "f58f22ed-218b-44c8-9403-0807fadd6e11",
   "metadata": {},
   "outputs": [],
   "source": [
    "db_file = \"chinook.db\"\n",
    "db_example = sqlite3.connect(db_file)"
   ]
  },
  {
   "cell_type": "code",
   "execution_count": 12,
   "id": "4c594819-5dce-422e-9a7e-afb5b786720c",
   "metadata": {},
   "outputs": [],
   "source": [
    "def list_tables() -> list[str]:\n",
    "    \"\"\"\n",
    "    Retrieves a list of all table names in the connected SQLite database.\n",
    "    Returns: list[str]: A list containing the names of all tables in the database.\n",
    "    \"\"\"\n",
    " \n",
    "    # Log message\n",
    "    print(' - DB calling function: list_tables')\n",
    "\n",
    "    # Create a cursor object to interact with the database\n",
    "    cursor = db_example.cursor()\n",
    "\n",
    "    # Execute a SQL query to fetch the names of all tables in the database\n",
    "    cursor.execute(\"SELECT name FROM sqlite_master WHERE type='table';\")\n",
    "\n",
    "    # Fetch all results and return the table names as a list of strings\n",
    "    tables = cursor.fetchall()\n",
    "    \n",
    "    return [table[0] for table in tables]"
   ]
  },
  {
   "cell_type": "code",
   "execution_count": 13,
   "id": "c553066c-2f94-4998-9bbb-b6de95b372d1",
   "metadata": {},
   "outputs": [],
   "source": [
    "def print_schema(table_name: str) -> list[tuple[str, str]]:\n",
    "    \"\"\"\n",
    "    Retrieves and prints the schema (column names and types) of a specified table.\n",
    "    Args: table_name (str): The name of the table whose schema is to be retrieved.\n",
    "    Returns: list[tuple[str, str]]: A list of tuples containing column names and their corresponding data types.\n",
    "    \"\"\"\n",
    "    # Log message\n",
    "    print(' - DB calling function: print_schema')\n",
    "\n",
    "    # Create a cursor object to interact with the database\n",
    "    cursor = db_example.cursor()\n",
    "\n",
    "    # Execute a SQL PRAGMA statement to get metadata about the table's columns\n",
    "    cursor.execute(f\"PRAGMA table_info({table_name});\")\n",
    "\n",
    "    # Fetch all results. Each result contains metadata for a column\n",
    "    schema = cursor.fetchall()\n",
    "\n",
    "    # Return a list of tuples with each column's name (index 1) and type (index 2).\n",
    "    return [(col[1], col[2]) for col in schema]"
   ]
  },
  {
   "cell_type": "code",
   "execution_count": 14,
   "id": "636422f8-41b5-4d25-bfe1-d9b4b77fca83",
   "metadata": {},
   "outputs": [],
   "source": [
    "def execute_query(sql: str) -> list[list[str]]:\n",
    "    \"\"\"\n",
    "    Executes a given SQL query and returns the results.\n",
    "\n",
    "    Args: sql (str): The SQL query to be executed.\n",
    "\n",
    "    Returns: list[list[str]]: A list of rows where each row is a list of strings representing the results.\n",
    "                         Returns an error message as a string if an exception occurs.\n",
    "    \"\"\"\n",
    "\n",
    "    # Log message\n",
    "    print(' - DB CALL: execute_query')\n",
    "\n",
    "    try:\n",
    "        # Create a cursor object\n",
    "        cursor = db_example.cursor()\n",
    "        \n",
    "        # Execute the provided SQL query\n",
    "        cursor.execute(sql)\n",
    "        \n",
    "        # Fetch and return all rows resulting from the query execution\n",
    "        return cursor.fetchall()\n",
    "\n",
    "    except Exception as e:\n",
    "        # Return a formatted error message if an exception occurs. To be used by the agent.\n",
    "        return f\"There was an error when trying to run the query used as input. \" \\\n",
    "               f\"Please update the query using a different approach and try again. Error: {e}\""
   ]
  },
  {
   "cell_type": "code",
   "execution_count": 15,
   "id": "57f1a166-183c-4140-a321-f0d01c147827",
   "metadata": {},
   "outputs": [],
   "source": [
    "# TBinding all functions together\n",
    "db_tools = [list_tables, print_schema, execute_query]\n",
    "\n",
    "instruction = \"\"\"You are a helpful chatbot that can interact with an SQL database to attend to users requests. \n",
    "You will take the users questions and turn them into SQL queries using the tools\n",
    "available. Once you have the information you need, you will address the user's request \n",
    "(responding to questions or updating the database when requested to).\n",
    "Use list_tables to see what tables are present, print_schema to understand\n",
    "the schema, and execute_query to issue SQL queries. Anytime before using any query that is not a SELECT query (example UPDATE or DELETE queries), \n",
    "you should output the query you intend to run and ask the user's permission to run it. \n",
    "\n",
    "Please add you final query as a string to the output of your answer.\n",
    "\n",
    "NOTE: The function execute_query was created to print out the error when the query is invalid. If you get a string saying the query is wrong, \n",
    "please use list_tables, print_schema function, create a new query using a different approach and try again.\n",
    "\n",
    "\"\"\"\n",
    "\n",
    "model = genai.GenerativeModel(\n",
    "    \"models/gemini-1.5-flash-latest\", tools=db_tools, system_instruction=instruction\n",
    ")\n",
    "\n",
    "retry_policy = {\"retry\": retry.Retry(predicate=retry.if_transient_error)}\n",
    "\n"
   ]
  },
  {
   "cell_type": "code",
   "execution_count": 16,
   "id": "969e7950-cdc2-4ad9-97d6-3b609590b5b1",
   "metadata": {},
   "outputs": [],
   "source": [
    "# Start a chat with automatic function calling enabled.\n",
    "chat = model.start_chat(enable_automatic_function_calling=True)"
   ]
  },
  {
   "cell_type": "markdown",
   "id": "ee7d03c1-3948-4a03-acb9-abf9b02d72e5",
   "metadata": {},
   "source": [
    "#### Most simple query"
   ]
  },
  {
   "cell_type": "code",
   "execution_count": 17,
   "id": "0dab9080-c6be-4ca1-8adf-60852a5bd133",
   "metadata": {},
   "outputs": [
    {
     "name": "stdout",
     "output_type": "stream",
     "text": [
      " - DB CALL: execute_query\n",
      "There are 347 records in the albums table.\n",
      "\n",
      "Final query: `SELECT COUNT(*) FROM albums`\n",
      "\n"
     ]
    }
   ],
   "source": [
    "resp = chat.send_message(\"How many records there are in the albums table?\", request_options=retry_policy)\n",
    "print(resp.text)"
   ]
  },
  {
   "cell_type": "markdown",
   "id": "db25b141-ea92-473b-9e8c-cd17a768848b",
   "metadata": {},
   "source": [
    "#### Requires a join or sub-query"
   ]
  },
  {
   "cell_type": "code",
   "execution_count": 18,
   "id": "6daebaaf-6361-42a7-acd0-dc142004ecfa",
   "metadata": {},
   "outputs": [
    {
     "name": "stdout",
     "output_type": "stream",
     "text": [
      " - DB CALL: execute_query\n",
      " - DB calling function: list_tables\n",
      " - DB calling function: print_schema\n",
      " - DB calling function: print_schema\n",
      " - DB CALL: execute_query\n",
      "Black Sabbath has 2 albums in the database.\n",
      "\n",
      "Final query: `SELECT COUNT(T1.AlbumId) FROM albums AS T1 INNER JOIN artists AS T2 ON T1.ArtistId  =  T2.ArtistId WHERE T2.Name = 'Black Sabbath'`\n",
      "\n"
     ]
    }
   ],
   "source": [
    "resp = chat.send_message(\"How many albums does the artist Black Sabbath has?\", request_options=retry_policy)\n",
    "print(resp.text)"
   ]
  },
  {
   "cell_type": "markdown",
   "id": "535a63e6-98a6-4ddc-81dc-8292c3ccb706",
   "metadata": {},
   "source": [
    "#### Requires to connect 3 tables"
   ]
  },
  {
   "cell_type": "code",
   "execution_count": 19,
   "id": "18d4eab6-bf94-45e8-8637-fb770f7faa5b",
   "metadata": {},
   "outputs": [
    {
     "name": "stdout",
     "output_type": "stream",
     "text": [
      " - DB calling function: print_schema\n",
      " - DB calling function: print_schema\n",
      " - DB CALL: execute_query\n",
      "Black Sabbath has 1 distinct genre in the database.\n",
      "\n",
      "Final query: `SELECT COUNT(DISTINCT T3.Name) FROM artists AS T1 INNER JOIN albums AS T2 ON T1.ArtistId = T2.ArtistId INNER JOIN tracks AS T4 ON T2.AlbumId = T4.AlbumId INNER JOIN genres AS T3 ON T4.GenreId = T3.GenreId WHERE T1.Name = 'Black Sabbath'`\n",
      "\n"
     ]
    }
   ],
   "source": [
    "resp = chat.send_message(\"How many different genres does black sabath have?\", request_options=retry_policy)\n",
    "print(resp.text)"
   ]
  },
  {
   "cell_type": "code",
   "execution_count": 20,
   "id": "e2e5ba7d-c99c-46f3-b123-c73981922721",
   "metadata": {},
   "outputs": [
    {
     "name": "stdout",
     "output_type": "stream",
     "text": [
      " - DB CALL: execute_query\n",
      " - DB CALL: execute_query\n",
      "Apocalyptica has 1 distinct genre in the database.\n",
      "\n",
      "Final query: `SELECT COUNT(DISTINCT T3.Name) FROM artists AS T1 INNER JOIN albums AS T2 ON T1.ArtistId = T2.ArtistId INNER JOIN tracks AS T4 ON T2.AlbumId = T4.AlbumId INNER JOIN genres AS T3 ON T4.GenreId = T3.GenreId WHERE T1.Name = 'Apocalyptica'`\n",
      "\n"
     ]
    }
   ],
   "source": [
    "resp = chat.send_message(\"How about Apocalyptica, how many different genres do they have?\", request_options=retry_policy)\n",
    "print(resp.text)\n"
   ]
  },
  {
   "cell_type": "markdown",
   "id": "cbfe53bb-8e31-4cac-9e64-7e1564e13646",
   "metadata": {},
   "source": [
    "#### General questions\n",
    "##### Questions that would require some thinking"
   ]
  },
  {
   "cell_type": "code",
   "execution_count": 21,
   "id": "7fee9875-a063-4c85-8c58-0b8dc7369b42",
   "metadata": {},
   "outputs": [
    {
     "name": "stdout",
     "output_type": "stream",
     "text": [
      " - DB calling function: print_schema\n",
      " - DB calling function: print_schema\n",
      " - DB CALL: execute_query\n",
      "Iron Maiden has sold the most albums with a total of 140 albums sold.\n",
      "\n",
      "Final query: `SELECT T1.Name, SUM(T4.Quantity) AS TotalAlbumsSold FROM artists AS T1 INNER JOIN albums AS T2 ON T1.ArtistId = T2.ArtistId INNER JOIN tracks AS T3 ON T2.AlbumId = T3.AlbumId INNER JOIN invoice_items AS T4 ON T3.TrackId = T4.TrackId GROUP BY T1.Name ORDER BY TotalAlbumsSold DESC LIMIT 1`\n",
      "\n"
     ]
    }
   ],
   "source": [
    "resp = chat.send_message(\"Which artist has sold the most albuns?\", request_options=retry_policy)\n",
    "print(resp.text)"
   ]
  },
  {
   "cell_type": "code",
   "execution_count": 22,
   "id": "19de320f-1e24-4fb8-b28c-6a961099c106",
   "metadata": {},
   "outputs": [
    {
     "name": "stdout",
     "output_type": "stream",
     "text": [
      " - DB CALL: execute_query\n",
      "Iron Maiden has the biggest total sales, with a total of 128.86.\n",
      "\n",
      "Final query: `SELECT T1.Name,SUM(T3.Total) FROM artists AS T1 INNER JOIN albums AS T2 ON T1.ArtistId = T2.ArtistId INNER JOIN invoices AS T3 ON T2.AlbumId = T3.InvoiceId GROUP BY T1.Name ORDER BY SUM(T3.Total) DESC LIMIT 1`\n",
      "\n",
      "\n"
     ]
    }
   ],
   "source": [
    "resp = chat.send_message(\"Which artist has the biggest total sales?\", request_options=retry_policy)\n",
    "print(resp.text)"
   ]
  },
  {
   "cell_type": "code",
   "execution_count": 23,
   "id": "4d6df869-0832-4ab4-b797-904e05a8efe3",
   "metadata": {},
   "outputs": [
    {
     "name": "stdout",
     "output_type": "stream",
     "text": [
      " - DB CALL: execute_query\n",
      " - DB CALL: execute_query\n",
      " - DB CALL: execute_query\n",
      "Margaret Park is the employee responsible for the highest total sales for Iron Maiden, with a total of 788.04.\n",
      "\n",
      "Final query: `SELECT T6.FirstName, T6.LastName, SUM(T4.Total) FROM artists AS T1 INNER JOIN albums AS T2 ON T1.ArtistId = T2.ArtistId INNER JOIN tracks AS T3 ON T2.AlbumId = T3.AlbumId INNER JOIN invoice_items AS T5 ON T3.TrackId = T5.TrackId INNER JOIN invoices AS T4 ON T5.InvoiceId = T4.InvoiceId INNER JOIN customers AS T7 ON T4.CustomerId = T7.CustomerId INNER JOIN employees AS T6 ON T7.SupportRepId = T6.EmployeeId WHERE T1.Name = 'Iron Maiden' GROUP BY T6.EmployeeId ORDER BY SUM(T4.Total) DESC LIMIT 1`\n",
      "\n"
     ]
    }
   ],
   "source": [
    "resp = chat.send_message(\"Which employee is responsible for the highest total sales for Iron Maiden?\", request_options=retry_policy)\n",
    "print(resp.text)"
   ]
  },
  {
   "cell_type": "code",
   "execution_count": null,
   "id": "51e1e321-a278-4b16-9a64-f57cab185ec0",
   "metadata": {},
   "outputs": [],
   "source": []
  }
 ],
 "metadata": {
  "kernelspec": {
   "display_name": "Python 3 (ipykernel)",
   "language": "python",
   "name": "python3"
  },
  "language_info": {
   "codemirror_mode": {
    "name": "ipython",
    "version": 3
   },
   "file_extension": ".py",
   "mimetype": "text/x-python",
   "name": "python",
   "nbconvert_exporter": "python",
   "pygments_lexer": "ipython3",
   "version": "3.12.7"
  }
 },
 "nbformat": 4,
 "nbformat_minor": 5
}
